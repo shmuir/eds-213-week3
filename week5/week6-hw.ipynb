{
 "cells": [
  {
   "cell_type": "code",
   "execution_count": 1,
   "metadata": {},
   "outputs": [],
   "source": [
    "import duckdb\n",
    "import pandas as pd\n",
    "import numpy as np"
   ]
  },
  {
   "cell_type": "code",
   "execution_count": null,
   "metadata": {},
   "outputs": [],
   "source": [
    "value = \"wolv'; INSERT INTO Personnel (Name) VALUES ('Taylor Swift'); SELECT * FROM Species WHERE Code = 'wolv\""
   ]
  },
  {
   "cell_type": "code",
   "execution_count": 2,
   "metadata": {},
   "outputs": [],
   "source": [
    "conn = duckdb.connect('database.db')\n",
    "cur = conn.cursor()"
   ]
  },
  {
   "cell_type": "code",
   "execution_count": 4,
   "metadata": {},
   "outputs": [
    {
     "name": "stderr",
     "output_type": "stream",
     "text": [
      "/var/folders/x9/sw65_mxs0zvb9zdbf_h1m2r40000gp/T/ipykernel_53862/1837660417.py:10: UserWarning: pandas only supports SQLAlchemy connectable (engine/connection) or database string URI or sqlite3 DBAPI2 connection. Other DBAPI2 objects are not tested. Please consider using SQLAlchemy.\n",
      "  species_df = pd.read_sql(species_query, conn)\n"
     ]
    },
    {
     "data": {
      "text/html": [
       "<div>\n",
       "<style scoped>\n",
       "    .dataframe tbody tr th:only-of-type {\n",
       "        vertical-align: middle;\n",
       "    }\n",
       "\n",
       "    .dataframe tbody tr th {\n",
       "        vertical-align: top;\n",
       "    }\n",
       "\n",
       "    .dataframe thead th {\n",
       "        text-align: right;\n",
       "    }\n",
       "</style>\n",
       "<table border=\"1\" class=\"dataframe\">\n",
       "  <thead>\n",
       "    <tr style=\"text-align: right;\">\n",
       "      <th></th>\n",
       "      <th>Code</th>\n",
       "      <th>Scientific_name</th>\n",
       "    </tr>\n",
       "  </thead>\n",
       "  <tbody>\n",
       "    <tr>\n",
       "      <th>0</th>\n",
       "      <td>rutu</td>\n",
       "      <td>Arenaria interpres</td>\n",
       "    </tr>\n",
       "    <tr>\n",
       "      <th>1</th>\n",
       "      <td>dunl</td>\n",
       "      <td>Calidris alpina</td>\n",
       "    </tr>\n",
       "    <tr>\n",
       "      <th>2</th>\n",
       "      <td>wrsa</td>\n",
       "      <td>Calidris fuscicollis</td>\n",
       "    </tr>\n",
       "    <tr>\n",
       "      <th>3</th>\n",
       "      <td>sepl</td>\n",
       "      <td>Charadrius semipalmatus</td>\n",
       "    </tr>\n",
       "    <tr>\n",
       "      <th>4</th>\n",
       "      <td>reph</td>\n",
       "      <td>Phalaropus fulicarius</td>\n",
       "    </tr>\n",
       "    <tr>\n",
       "      <th>5</th>\n",
       "      <td>amgp</td>\n",
       "      <td>Pluvialis dominica</td>\n",
       "    </tr>\n",
       "    <tr>\n",
       "      <th>6</th>\n",
       "      <td>bbpl</td>\n",
       "      <td>Pluvialis squatarola</td>\n",
       "    </tr>\n",
       "  </tbody>\n",
       "</table>\n",
       "</div>"
      ],
      "text/plain": [
       "   Code          Scientific_name\n",
       "0  rutu       Arenaria interpres\n",
       "1  dunl          Calidris alpina\n",
       "2  wrsa     Calidris fuscicollis\n",
       "3  sepl  Charadrius semipalmatus\n",
       "4  reph    Phalaropus fulicarius\n",
       "5  amgp       Pluvialis dominica\n",
       "6  bbpl     Pluvialis squatarola"
      ]
     },
     "execution_count": 4,
     "metadata": {},
     "output_type": "execute_result"
    }
   ],
   "source": [
    "# define the species query to get species that have egg data\n",
    "species_query = \"\"\"\n",
    "SELECT DISTINCT Code, Scientific_name FROM Species\n",
    "JOIN Bird_nests ON Species.Code = Bird_nests.Species\n",
    "JOIN Bird_eggs USING(Nest_ID)\n",
    "WHERE Width IS NOT NULL AND Length IS NOT NULL\n",
    "ORDER BY scientific_name;\n",
    "\"\"\"\n",
    "# get distinct species in a df to look at the results formatted\n",
    "species_df = pd.read_sql(species_query, conn)\n",
    "species_df"
   ]
  },
  {
   "cell_type": "code",
   "execution_count": 7,
   "metadata": {},
   "outputs": [
    {
     "name": "stdout",
     "output_type": "stream",
     "text": [
      "Arenaria interpres 21.12%\n",
      "Calidris alpina 5.46%\n",
      "Calidris fuscicollis 16.77%\n",
      "Charadrius semipalmatus 8.99%\n",
      "Phalaropus fulicarius 4.65%\n",
      "Pluvialis dominica 19.88%\n",
      "Pluvialis squatarola 6.94%\n"
     ]
    },
    {
     "name": "stderr",
     "output_type": "stream",
     "text": [
      "/var/folders/x9/sw65_mxs0zvb9zdbf_h1m2r40000gp/T/ipykernel_53862/707055633.py:16: UserWarning: pandas only supports SQLAlchemy connectable (engine/connection) or database string URI or sqlite3 DBAPI2 connection. Other DBAPI2 objects are not tested. Please consider using SQLAlchemy.\n",
      "  df = pd.read_sql(egg_query, conn, params=(species_code,))\n"
     ]
    }
   ],
   "source": [
    "# use species query and fetch results\n",
    "for row in conn.execute(species_query).fetchall():\n",
    "    species_code = row[0]\n",
    "    scientific_name = row[1]\n",
    "\n",
    "    # define egg query to get volume data for each species code\n",
    "    egg_query = f\"\"\"\n",
    "    SELECT Width * Width * Length AS Volume FROM Species\n",
    "    JOIN Bird_nests ON Species.Code = Bird_nests.Species\n",
    "    JOIN Bird_eggs USING(Nest_ID)\n",
    "    WHERE Code = ?\n",
    "    AND Width IS NOT NULL AND Length IS NOT NULL\n",
    "    \"\"\"\n",
    "\n",
    "    # get results of egg query in a df\n",
    "    df = pd.read_sql(egg_query, conn, params=(species_code,))\n",
    "\n",
    "    # calc the cv and print results with scientific name\n",
    "    cv = round(df.Volume.std() / df.Volume.mean() * 100, 2)\n",
    "    print(f\"{scientific_name} {cv}%\")"
   ]
  },
  {
   "cell_type": "code",
   "execution_count": 30,
   "metadata": {},
   "outputs": [],
   "source": [
    "# Close connection\n",
    "conn.close()"
   ]
  },
  {
   "cell_type": "code",
   "execution_count": null,
   "metadata": {},
   "outputs": [],
   "source": []
  }
 ],
 "metadata": {
  "kernelspec": {
   "display_name": "Python 3",
   "language": "python",
   "name": "python3"
  },
  "language_info": {
   "codemirror_mode": {
    "name": "ipython",
    "version": 3
   },
   "file_extension": ".py",
   "mimetype": "text/x-python",
   "name": "python",
   "nbconvert_exporter": "python",
   "pygments_lexer": "ipython3",
   "version": "3.10.5"
  }
 },
 "nbformat": 4,
 "nbformat_minor": 2
}
